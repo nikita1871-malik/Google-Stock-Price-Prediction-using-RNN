{
 "cells": [
  {
   "cell_type": "code",
   "execution_count": 1,
   "metadata": {
    "id": "nb2o4QQPOZRQ"
   },
   "outputs": [
    {
     "name": "stderr",
     "output_type": "stream",
     "text": [
      "Using TensorFlow backend.\n"
     ]
    }
   ],
   "source": [
    "import numpy as np\n",
    "import matplotlib.pyplot as plt\n",
    "import pandas as pd\n",
    "from sklearn.preprocessing import MinMaxScaler\n",
    "from keras.models import Sequential\n",
    "from keras.layers import Dense\n",
    "\n",
    "from keras.layers import Dropout\n",
    "# from tensorflow.keras import Sequential\n",
    "from keras.layers import SimpleRNN\n",
    "from keras.layers import LSTM"
   ]
  },
  {
   "cell_type": "code",
   "execution_count": null,
   "metadata": {},
   "outputs": [],
   "source": []
  },
  {
   "cell_type": "code",
   "execution_count": 2,
   "metadata": {
    "id": "4Sk5iunVOZRX"
   },
   "outputs": [],
   "source": [
    "train = pd.read_csv(r\"C:\\Users\\Nikita\\Downloads\\Google_Stock_Price_Train.csv\")"
   ]
  },
  {
   "cell_type": "code",
   "execution_count": 3,
   "metadata": {
    "colab": {
     "base_uri": "https://localhost:8080/",
     "height": 204
    },
    "id": "YrK3_JwOOZRc",
    "outputId": "1ba05193-57a9-4581-f752-76ff8e9a6124"
   },
   "outputs": [
    {
     "data": {
      "text/html": [
       "<div>\n",
       "<style scoped>\n",
       "    .dataframe tbody tr th:only-of-type {\n",
       "        vertical-align: middle;\n",
       "    }\n",
       "\n",
       "    .dataframe tbody tr th {\n",
       "        vertical-align: top;\n",
       "    }\n",
       "\n",
       "    .dataframe thead th {\n",
       "        text-align: right;\n",
       "    }\n",
       "</style>\n",
       "<table border=\"1\" class=\"dataframe\">\n",
       "  <thead>\n",
       "    <tr style=\"text-align: right;\">\n",
       "      <th></th>\n",
       "      <th>Date</th>\n",
       "      <th>Open</th>\n",
       "      <th>High</th>\n",
       "      <th>Low</th>\n",
       "      <th>Close</th>\n",
       "      <th>Volume</th>\n",
       "    </tr>\n",
       "  </thead>\n",
       "  <tbody>\n",
       "    <tr>\n",
       "      <th>0</th>\n",
       "      <td>01-03-2012</td>\n",
       "      <td>325.25</td>\n",
       "      <td>332.83</td>\n",
       "      <td>324.97</td>\n",
       "      <td>663.59</td>\n",
       "      <td>73,80,500</td>\n",
       "    </tr>\n",
       "    <tr>\n",
       "      <th>1</th>\n",
       "      <td>01-04-2012</td>\n",
       "      <td>331.27</td>\n",
       "      <td>333.87</td>\n",
       "      <td>329.08</td>\n",
       "      <td>666.45</td>\n",
       "      <td>57,49,400</td>\n",
       "    </tr>\n",
       "    <tr>\n",
       "      <th>2</th>\n",
       "      <td>01-05-2012</td>\n",
       "      <td>329.83</td>\n",
       "      <td>330.75</td>\n",
       "      <td>326.89</td>\n",
       "      <td>657.21</td>\n",
       "      <td>65,90,300</td>\n",
       "    </tr>\n",
       "    <tr>\n",
       "      <th>3</th>\n",
       "      <td>01-06-2012</td>\n",
       "      <td>328.34</td>\n",
       "      <td>328.77</td>\n",
       "      <td>323.68</td>\n",
       "      <td>648.24</td>\n",
       "      <td>54,05,900</td>\n",
       "    </tr>\n",
       "    <tr>\n",
       "      <th>4</th>\n",
       "      <td>01-09-2012</td>\n",
       "      <td>322.04</td>\n",
       "      <td>322.29</td>\n",
       "      <td>309.46</td>\n",
       "      <td>620.76</td>\n",
       "      <td>1,16,88,800</td>\n",
       "    </tr>\n",
       "  </tbody>\n",
       "</table>\n",
       "</div>"
      ],
      "text/plain": [
       "         Date    Open    High     Low   Close       Volume\n",
       "0  01-03-2012  325.25  332.83  324.97  663.59    73,80,500\n",
       "1  01-04-2012  331.27  333.87  329.08  666.45    57,49,400\n",
       "2  01-05-2012  329.83  330.75  326.89  657.21    65,90,300\n",
       "3  01-06-2012  328.34  328.77  323.68  648.24    54,05,900\n",
       "4  01-09-2012  322.04  322.29  309.46  620.76  1,16,88,800"
      ]
     },
     "execution_count": 3,
     "metadata": {},
     "output_type": "execute_result"
    }
   ],
   "source": [
    "train.head()"
   ]
  },
  {
   "cell_type": "code",
   "execution_count": 4,
   "metadata": {
    "colab": {
     "base_uri": "https://localhost:8080/",
     "height": 204
    },
    "id": "EQS_oGENOZRh",
    "outputId": "c6f172f5-d652-44e7-d4c3-9812b9c4679d"
   },
   "outputs": [
    {
     "data": {
      "text/html": [
       "<div>\n",
       "<style scoped>\n",
       "    .dataframe tbody tr th:only-of-type {\n",
       "        vertical-align: middle;\n",
       "    }\n",
       "\n",
       "    .dataframe tbody tr th {\n",
       "        vertical-align: top;\n",
       "    }\n",
       "\n",
       "    .dataframe thead th {\n",
       "        text-align: right;\n",
       "    }\n",
       "</style>\n",
       "<table border=\"1\" class=\"dataframe\">\n",
       "  <thead>\n",
       "    <tr style=\"text-align: right;\">\n",
       "      <th></th>\n",
       "      <th>Date</th>\n",
       "      <th>Open</th>\n",
       "      <th>High</th>\n",
       "      <th>Low</th>\n",
       "      <th>Close</th>\n",
       "      <th>Volume</th>\n",
       "    </tr>\n",
       "  </thead>\n",
       "  <tbody>\n",
       "    <tr>\n",
       "      <th>1253</th>\n",
       "      <td>12/23/2016</td>\n",
       "      <td>790.90</td>\n",
       "      <td>792.74</td>\n",
       "      <td>787.28</td>\n",
       "      <td>789.91</td>\n",
       "      <td>6,23,400</td>\n",
       "    </tr>\n",
       "    <tr>\n",
       "      <th>1254</th>\n",
       "      <td>12/27/2016</td>\n",
       "      <td>790.68</td>\n",
       "      <td>797.86</td>\n",
       "      <td>787.66</td>\n",
       "      <td>791.55</td>\n",
       "      <td>7,89,100</td>\n",
       "    </tr>\n",
       "    <tr>\n",
       "      <th>1255</th>\n",
       "      <td>12/28/2016</td>\n",
       "      <td>793.70</td>\n",
       "      <td>794.23</td>\n",
       "      <td>783.20</td>\n",
       "      <td>785.05</td>\n",
       "      <td>11,53,800</td>\n",
       "    </tr>\n",
       "    <tr>\n",
       "      <th>1256</th>\n",
       "      <td>12/29/2016</td>\n",
       "      <td>783.33</td>\n",
       "      <td>785.93</td>\n",
       "      <td>778.92</td>\n",
       "      <td>782.79</td>\n",
       "      <td>7,44,300</td>\n",
       "    </tr>\n",
       "    <tr>\n",
       "      <th>1257</th>\n",
       "      <td>12/30/2016</td>\n",
       "      <td>782.75</td>\n",
       "      <td>782.78</td>\n",
       "      <td>770.41</td>\n",
       "      <td>771.82</td>\n",
       "      <td>17,70,000</td>\n",
       "    </tr>\n",
       "  </tbody>\n",
       "</table>\n",
       "</div>"
      ],
      "text/plain": [
       "            Date    Open    High     Low   Close     Volume\n",
       "1253  12/23/2016  790.90  792.74  787.28  789.91   6,23,400\n",
       "1254  12/27/2016  790.68  797.86  787.66  791.55   7,89,100\n",
       "1255  12/28/2016  793.70  794.23  783.20  785.05  11,53,800\n",
       "1256  12/29/2016  783.33  785.93  778.92  782.79   7,44,300\n",
       "1257  12/30/2016  782.75  782.78  770.41  771.82  17,70,000"
      ]
     },
     "execution_count": 4,
     "metadata": {},
     "output_type": "execute_result"
    }
   ],
   "source": [
    "train.tail()"
   ]
  },
  {
   "cell_type": "code",
   "execution_count": 7,
   "metadata": {
    "id": "v3aHhvTVOZRm"
   },
   "outputs": [],
   "source": [
    "test = pd.read_csv(r\"C:\\Users\\Nikita\\Downloads\\Google_Stock_Price_Test.csv\")"
   ]
  },
  {
   "cell_type": "code",
   "execution_count": 8,
   "metadata": {
    "colab": {
     "base_uri": "https://localhost:8080/",
     "height": 204
    },
    "id": "CNBw8yUuOZRr",
    "outputId": "662926d1-583d-4cf0-9227-b583e40e117c"
   },
   "outputs": [
    {
     "data": {
      "text/html": [
       "<div>\n",
       "<style scoped>\n",
       "    .dataframe tbody tr th:only-of-type {\n",
       "        vertical-align: middle;\n",
       "    }\n",
       "\n",
       "    .dataframe tbody tr th {\n",
       "        vertical-align: top;\n",
       "    }\n",
       "\n",
       "    .dataframe thead th {\n",
       "        text-align: right;\n",
       "    }\n",
       "</style>\n",
       "<table border=\"1\" class=\"dataframe\">\n",
       "  <thead>\n",
       "    <tr style=\"text-align: right;\">\n",
       "      <th></th>\n",
       "      <th>Date</th>\n",
       "      <th>Open</th>\n",
       "      <th>High</th>\n",
       "      <th>Low</th>\n",
       "      <th>Close</th>\n",
       "      <th>Volume</th>\n",
       "    </tr>\n",
       "  </thead>\n",
       "  <tbody>\n",
       "    <tr>\n",
       "      <th>0</th>\n",
       "      <td>1/3/2017</td>\n",
       "      <td>778.81</td>\n",
       "      <td>789.63</td>\n",
       "      <td>775.80</td>\n",
       "      <td>786.14</td>\n",
       "      <td>1,657,300</td>\n",
       "    </tr>\n",
       "    <tr>\n",
       "      <th>1</th>\n",
       "      <td>1/4/2017</td>\n",
       "      <td>788.36</td>\n",
       "      <td>791.34</td>\n",
       "      <td>783.16</td>\n",
       "      <td>786.90</td>\n",
       "      <td>1,073,000</td>\n",
       "    </tr>\n",
       "    <tr>\n",
       "      <th>2</th>\n",
       "      <td>1/5/2017</td>\n",
       "      <td>786.08</td>\n",
       "      <td>794.48</td>\n",
       "      <td>785.02</td>\n",
       "      <td>794.02</td>\n",
       "      <td>1,335,200</td>\n",
       "    </tr>\n",
       "    <tr>\n",
       "      <th>3</th>\n",
       "      <td>1/6/2017</td>\n",
       "      <td>795.26</td>\n",
       "      <td>807.90</td>\n",
       "      <td>792.20</td>\n",
       "      <td>806.15</td>\n",
       "      <td>1,640,200</td>\n",
       "    </tr>\n",
       "    <tr>\n",
       "      <th>4</th>\n",
       "      <td>1/9/2017</td>\n",
       "      <td>806.40</td>\n",
       "      <td>809.97</td>\n",
       "      <td>802.83</td>\n",
       "      <td>806.65</td>\n",
       "      <td>1,272,400</td>\n",
       "    </tr>\n",
       "  </tbody>\n",
       "</table>\n",
       "</div>"
      ],
      "text/plain": [
       "       Date    Open    High     Low   Close     Volume\n",
       "0  1/3/2017  778.81  789.63  775.80  786.14  1,657,300\n",
       "1  1/4/2017  788.36  791.34  783.16  786.90  1,073,000\n",
       "2  1/5/2017  786.08  794.48  785.02  794.02  1,335,200\n",
       "3  1/6/2017  795.26  807.90  792.20  806.15  1,640,200\n",
       "4  1/9/2017  806.40  809.97  802.83  806.65  1,272,400"
      ]
     },
     "execution_count": 8,
     "metadata": {},
     "output_type": "execute_result"
    }
   ],
   "source": [
    "test.head()"
   ]
  },
  {
   "cell_type": "code",
   "execution_count": 9,
   "metadata": {
    "colab": {
     "base_uri": "https://localhost:8080/",
     "height": 204
    },
    "id": "tAPgLscQOZRv",
    "outputId": "ab8c8e28-c1bf-4942-990f-2711a0a34029"
   },
   "outputs": [
    {
     "data": {
      "text/html": [
       "<div>\n",
       "<style scoped>\n",
       "    .dataframe tbody tr th:only-of-type {\n",
       "        vertical-align: middle;\n",
       "    }\n",
       "\n",
       "    .dataframe tbody tr th {\n",
       "        vertical-align: top;\n",
       "    }\n",
       "\n",
       "    .dataframe thead th {\n",
       "        text-align: right;\n",
       "    }\n",
       "</style>\n",
       "<table border=\"1\" class=\"dataframe\">\n",
       "  <thead>\n",
       "    <tr style=\"text-align: right;\">\n",
       "      <th></th>\n",
       "      <th>Date</th>\n",
       "      <th>Open</th>\n",
       "      <th>High</th>\n",
       "      <th>Low</th>\n",
       "      <th>Close</th>\n",
       "      <th>Volume</th>\n",
       "    </tr>\n",
       "  </thead>\n",
       "  <tbody>\n",
       "    <tr>\n",
       "      <th>15</th>\n",
       "      <td>1/25/2017</td>\n",
       "      <td>829.62</td>\n",
       "      <td>835.77</td>\n",
       "      <td>825.06</td>\n",
       "      <td>835.67</td>\n",
       "      <td>1,494,500</td>\n",
       "    </tr>\n",
       "    <tr>\n",
       "      <th>16</th>\n",
       "      <td>1/26/2017</td>\n",
       "      <td>837.81</td>\n",
       "      <td>838.00</td>\n",
       "      <td>827.01</td>\n",
       "      <td>832.15</td>\n",
       "      <td>2,973,900</td>\n",
       "    </tr>\n",
       "    <tr>\n",
       "      <th>17</th>\n",
       "      <td>1/27/2017</td>\n",
       "      <td>834.71</td>\n",
       "      <td>841.95</td>\n",
       "      <td>820.44</td>\n",
       "      <td>823.31</td>\n",
       "      <td>2,965,800</td>\n",
       "    </tr>\n",
       "    <tr>\n",
       "      <th>18</th>\n",
       "      <td>1/30/2017</td>\n",
       "      <td>814.66</td>\n",
       "      <td>815.84</td>\n",
       "      <td>799.80</td>\n",
       "      <td>802.32</td>\n",
       "      <td>3,246,600</td>\n",
       "    </tr>\n",
       "    <tr>\n",
       "      <th>19</th>\n",
       "      <td>1/31/2017</td>\n",
       "      <td>796.86</td>\n",
       "      <td>801.25</td>\n",
       "      <td>790.52</td>\n",
       "      <td>796.79</td>\n",
       "      <td>2,160,600</td>\n",
       "    </tr>\n",
       "  </tbody>\n",
       "</table>\n",
       "</div>"
      ],
      "text/plain": [
       "         Date    Open    High     Low   Close     Volume\n",
       "15  1/25/2017  829.62  835.77  825.06  835.67  1,494,500\n",
       "16  1/26/2017  837.81  838.00  827.01  832.15  2,973,900\n",
       "17  1/27/2017  834.71  841.95  820.44  823.31  2,965,800\n",
       "18  1/30/2017  814.66  815.84  799.80  802.32  3,246,600\n",
       "19  1/31/2017  796.86  801.25  790.52  796.79  2,160,600"
      ]
     },
     "execution_count": 9,
     "metadata": {},
     "output_type": "execute_result"
    }
   ],
   "source": [
    "test.tail()"
   ]
  },
  {
   "cell_type": "code",
   "execution_count": 10,
   "metadata": {},
   "outputs": [],
   "source": [
    "import matplotlib.pyplot as plt"
   ]
  },
  {
   "cell_type": "code",
   "execution_count": 11,
   "metadata": {},
   "outputs": [
    {
     "data": {
      "text/plain": [
       "[<matplotlib.lines.Line2D at 0x27b1350be10>]"
      ]
     },
     "execution_count": 11,
     "metadata": {},
     "output_type": "execute_result"
    },
    {
     "data": {
      "image/png": "[encoded data removed]",
      "text/plain": [
       "<Figure size 432x288 with 1 Axes>"
      ]
     },
     "metadata": {
      "needs_background": "light"
     },
     "output_type": "display_data"
    }
   ],
   "source": [
    "plt.plot(train[\"High\"])"
   ]
  },
  {
   "cell_type": "code",
   "execution_count": 12,
   "metadata": {},
   "outputs": [],
   "source": [
    "# plt.plot(train[\"Close\"])"
   ]
  },
  {
   "cell_type": "code",
   "execution_count": 13,
   "metadata": {},
   "outputs": [
    {
     "data": {
      "text/plain": [
       "[<matplotlib.lines.Line2D at 0x27b13839c88>]"
      ]
     },
     "execution_count": 13,
     "metadata": {},
     "output_type": "execute_result"
    },
    {
     "data": {
      "image/png": "[encoded data removed]",
      "text/plain": [
       "<Figure size 432x288 with 1 Axes>"
      ]
     },
     "metadata": {
      "needs_background": "light"
     },
     "output_type": "display_data"
    }
   ],
   "source": [
    "plt.plot(train[\"Low\"])"
   ]
  },
  {
   "cell_type": "code",
   "execution_count": 14,
   "metadata": {},
   "outputs": [
    {
     "data": {
      "text/html": [
       "<div>\n",
       "<style scoped>\n",
       "    .dataframe tbody tr th:only-of-type {\n",
       "        vertical-align: middle;\n",
       "    }\n",
       "\n",
       "    .dataframe tbody tr th {\n",
       "        vertical-align: top;\n",
       "    }\n",
       "\n",
       "    .dataframe thead th {\n",
       "        text-align: right;\n",
       "    }\n",
       "</style>\n",
       "<table border=\"1\" class=\"dataframe\">\n",
       "  <thead>\n",
       "    <tr style=\"text-align: right;\">\n",
       "      <th></th>\n",
       "      <th>Date</th>\n",
       "      <th>Open</th>\n",
       "      <th>High</th>\n",
       "      <th>Low</th>\n",
       "      <th>Close</th>\n",
       "      <th>Volume</th>\n",
       "    </tr>\n",
       "  </thead>\n",
       "  <tbody>\n",
       "    <tr>\n",
       "      <th>0</th>\n",
       "      <td>01-03-2012</td>\n",
       "      <td>325.25</td>\n",
       "      <td>332.83</td>\n",
       "      <td>324.97</td>\n",
       "      <td>663.59</td>\n",
       "      <td>73,80,500</td>\n",
       "    </tr>\n",
       "    <tr>\n",
       "      <th>1</th>\n",
       "      <td>01-04-2012</td>\n",
       "      <td>331.27</td>\n",
       "      <td>333.87</td>\n",
       "      <td>329.08</td>\n",
       "      <td>666.45</td>\n",
       "      <td>57,49,400</td>\n",
       "    </tr>\n",
       "    <tr>\n",
       "      <th>2</th>\n",
       "      <td>01-05-2012</td>\n",
       "      <td>329.83</td>\n",
       "      <td>330.75</td>\n",
       "      <td>326.89</td>\n",
       "      <td>657.21</td>\n",
       "      <td>65,90,300</td>\n",
       "    </tr>\n",
       "    <tr>\n",
       "      <th>3</th>\n",
       "      <td>01-06-2012</td>\n",
       "      <td>328.34</td>\n",
       "      <td>328.77</td>\n",
       "      <td>323.68</td>\n",
       "      <td>648.24</td>\n",
       "      <td>54,05,900</td>\n",
       "    </tr>\n",
       "    <tr>\n",
       "      <th>4</th>\n",
       "      <td>01-09-2012</td>\n",
       "      <td>322.04</td>\n",
       "      <td>322.29</td>\n",
       "      <td>309.46</td>\n",
       "      <td>620.76</td>\n",
       "      <td>1,16,88,800</td>\n",
       "    </tr>\n",
       "  </tbody>\n",
       "</table>\n",
       "</div>"
      ],
      "text/plain": [
       "         Date    Open    High     Low   Close       Volume\n",
       "0  01-03-2012  325.25  332.83  324.97  663.59    73,80,500\n",
       "1  01-04-2012  331.27  333.87  329.08  666.45    57,49,400\n",
       "2  01-05-2012  329.83  330.75  326.89  657.21    65,90,300\n",
       "3  01-06-2012  328.34  328.77  323.68  648.24    54,05,900\n",
       "4  01-09-2012  322.04  322.29  309.46  620.76  1,16,88,800"
      ]
     },
     "execution_count": 14,
     "metadata": {},
     "output_type": "execute_result"
    }
   ],
   "source": [
    "train.head()"
   ]
  },
  {
   "cell_type": "code",
   "execution_count": 15,
   "metadata": {},
   "outputs": [
    {
     "data": {
      "text/plain": [
       "0       325.25\n",
       "1       331.27\n",
       "2       329.83\n",
       "3       328.34\n",
       "4       322.04\n",
       "         ...  \n",
       "1253    790.90\n",
       "1254    790.68\n",
       "1255    793.70\n",
       "1256    783.33\n",
       "1257    782.75\n",
       "Name: Open, Length: 1258, dtype: float64"
      ]
     },
     "execution_count": 15,
     "metadata": {},
     "output_type": "execute_result"
    }
   ],
   "source": [
    "train[\"Open\"]"
   ]
  },
  {
   "cell_type": "code",
   "execution_count": 16,
   "metadata": {},
   "outputs": [
    {
     "data": {
      "text/plain": [
       "array([[325.25],\n",
       "       [331.27],\n",
       "       [329.83],\n",
       "       ...,\n",
       "       [793.7 ],\n",
       "       [783.33],\n",
       "       [782.75]])"
      ]
     },
     "execution_count": 16,
     "metadata": {},
     "output_type": "execute_result"
    }
   ],
   "source": [
    "train.iloc[:,1:2].values"
   ]
  },
  {
   "cell_type": "code",
   "execution_count": 17,
   "metadata": {
    "id": "UceX5xIWOZR1"
   },
   "outputs": [],
   "source": [
    "training_set=train.iloc[:,1:2].values"
   ]
  },
  {
   "cell_type": "code",
   "execution_count": 18,
   "metadata": {},
   "outputs": [
    {
     "data": {
      "text/plain": [
       "(1258, 1)"
      ]
     },
     "execution_count": 18,
     "metadata": {},
     "output_type": "execute_result"
    }
   ],
   "source": [
    "training_set.shape"
   ]
  },
  {
   "cell_type": "code",
   "execution_count": 19,
   "metadata": {
    "id": "YdwoutE8OZR-"
   },
   "outputs": [],
   "source": [
    "from sklearn.preprocessing import MinMaxScaler\n",
    "\n",
    "sc = MinMaxScaler(feature_range = (0, 1)) # with StandardScaler() we do normalization while with MinMaxScaler we do min max transform\n",
    "training_set_scaled = sc.fit_transform(training_set)"
   ]
  },
  {
   "cell_type": "code",
   "execution_count": 20,
   "metadata": {
    "colab": {
     "base_uri": "https://localhost:8080/",
     "height": 34
    },
    "id": "WJ18aAN3OZSB",
    "outputId": "2ee5b9d2-9d79-467a-a971-544b0cb15198"
   },
   "outputs": [
    {
     "data": {
      "text/plain": [
       "(1258, 1)"
      ]
     },
     "execution_count": 20,
     "metadata": {},
     "output_type": "execute_result"
    }
   ],
   "source": [
    "training_set_scaled.shape"
   ]
  },
  {
   "cell_type": "code",
   "execution_count": 21,
   "metadata": {},
   "outputs": [
    {
     "data": {
      "text/plain": [
       "array([[0.08581368],\n",
       "       [0.09701243],\n",
       "       [0.09433366],\n",
       "       ...,\n",
       "       [0.95725128],\n",
       "       [0.93796041],\n",
       "       [0.93688146]])"
      ]
     },
     "execution_count": 21,
     "metadata": {},
     "output_type": "execute_result"
    }
   ],
   "source": [
    "training_set_scaled"
   ]
  },
  {
   "cell_type": "code",
   "execution_count": 22,
   "metadata": {},
   "outputs": [
    {
     "data": {
      "text/plain": [
       "1258"
      ]
     },
     "execution_count": 22,
     "metadata": {},
     "output_type": "execute_result"
    }
   ],
   "source": [
    "training_set_scaled.shape[0]"
   ]
  },
  {
   "cell_type": "code",
   "execution_count": 23,
   "metadata": {},
   "outputs": [
    {
     "data": {
      "text/plain": [
       "array([0.08581368, 0.09701243, 0.09433366, 0.09156187, 0.07984225,\n",
       "       0.0643277 , 0.0585423 , 0.06568569, 0.06109085, 0.06639259,\n",
       "       0.0614257 , 0.07474514, 0.02797827, 0.02379269, 0.02409033,\n",
       "       0.0159238 , 0.01078949, 0.00967334, 0.01642607, 0.02100231,\n",
       "       0.02280676, 0.02273235, 0.02810849, 0.03212665, 0.0433812 ,\n",
       "       0.04475779, 0.04790163, 0.0440695 , 0.04648783, 0.04745517])"
      ]
     },
     "execution_count": 23,
     "metadata": {},
     "output_type": "execute_result"
    }
   ],
   "source": [
    "training_set_scaled[30-30:30,0]"
   ]
  },
  {
   "cell_type": "code",
   "execution_count": 24,
   "metadata": {},
   "outputs": [
    {
     "data": {
      "text/plain": [
       "array([0.09701243, 0.09433366, 0.09156187, 0.07984225, 0.0643277 ,\n",
       "       0.0585423 , 0.06568569, 0.06109085, 0.06639259, 0.0614257 ,\n",
       "       0.07474514, 0.02797827, 0.02379269, 0.02409033, 0.0159238 ,\n",
       "       0.01078949, 0.00967334, 0.01642607, 0.02100231, 0.02280676,\n",
       "       0.02273235, 0.02810849, 0.03212665, 0.0433812 , 0.04475779,\n",
       "       0.04790163, 0.0440695 , 0.04648783, 0.04745517, 0.04873875])"
      ]
     },
     "execution_count": 24,
     "metadata": {},
     "output_type": "execute_result"
    }
   ],
   "source": [
    "training_set_scaled[31-30:31,0]"
   ]
  },
  {
   "cell_type": "code",
   "execution_count": 25,
   "metadata": {
    "id": "G75WtJrTOZSG"
   },
   "outputs": [],
   "source": [
    "gap=30\n",
    "X_train=[]\n",
    "y_train=[]\n",
    "for i in range(gap,1236):\n",
    "    X_train.append(training_set_scaled[i-gap:i,0])\n",
    "    y_train.append(training_set_scaled[i,0])\n",
    "\n",
    "    \n",
    "X_train, y_train = np.array(X_train), np.array(y_train)"
   ]
  },
  {
   "cell_type": "code",
   "execution_count": 26,
   "metadata": {},
   "outputs": [
    {
     "data": {
      "text/plain": [
       "(1206, 30)"
      ]
     },
     "execution_count": 26,
     "metadata": {},
     "output_type": "execute_result"
    }
   ],
   "source": [
    "X_train.shape"
   ]
  },
  {
   "cell_type": "code",
   "execution_count": 27,
   "metadata": {},
   "outputs": [
    {
     "data": {
      "text/plain": [
       "2"
      ]
     },
     "execution_count": 27,
     "metadata": {},
     "output_type": "execute_result"
    }
   ],
   "source": [
    "X_train.ndim"
   ]
  },
  {
   "cell_type": "code",
   "execution_count": 28,
   "metadata": {},
   "outputs": [
    {
     "data": {
      "text/plain": [
       "array([[0.08581368, 0.09701243, 0.09433366, ..., 0.0440695 , 0.04648783,\n",
       "        0.04745517],\n",
       "       [0.09701243, 0.09433366, 0.09156187, ..., 0.04648783, 0.04745517,\n",
       "        0.04873875],\n",
       "       [0.09433366, 0.09156187, 0.07984225, ..., 0.04745517, 0.04873875,\n",
       "        0.03936305],\n",
       "       ...,\n",
       "       [0.93403527, 0.93483518, 0.9313937 , ..., 0.89941588, 0.91805566,\n",
       "        0.9089404 ],\n",
       "       [0.93483518, 0.9313937 , 0.94636878, ..., 0.91805566, 0.9089404 ,\n",
       "        0.9024853 ],\n",
       "       [0.9313937 , 0.94636878, 0.96569685, ..., 0.9089404 , 0.9024853 ,\n",
       "        0.89456061]])"
      ]
     },
     "execution_count": 28,
     "metadata": {},
     "output_type": "execute_result"
    }
   ],
   "source": [
    "X_train"
   ]
  },
  {
   "cell_type": "code",
   "execution_count": 29,
   "metadata": {
    "colab": {
     "base_uri": "https://localhost:8080/",
     "height": 51
    },
    "id": "Z-aWSOffOZSJ",
    "outputId": "1ebc2505-b34c-482c-d871-c7a3809448bb"
   },
   "outputs": [
    {
     "name": "stdout",
     "output_type": "stream",
     "text": [
      "(1206, 30)\n",
      "(1206,)\n"
     ]
    }
   ],
   "source": [
    "print(X_train.shape)\n",
    "print(y_train.shape)"
   ]
  },
  {
   "cell_type": "code",
   "execution_count": 30,
   "metadata": {
    "id": "bHntnmwlOZSO"
   },
   "outputs": [],
   "source": [
    "#reshape it to (batche_size(#size of inputs),timesteps,input_dimension)\n",
    "X_train = np.reshape(X_train, (X_train.shape[0], X_train.shape[1], 1))"
   ]
  },
  {
   "cell_type": "code",
   "execution_count": 31,
   "metadata": {
    "colab": {
     "base_uri": "https://localhost:8080/",
     "height": 34
    },
    "id": "VCrxDboDOZSR",
    "outputId": "6daec7b7-96c0-43bc-ee3e-7ff791de7e6f"
   },
   "outputs": [
    {
     "data": {
      "text/plain": [
       "(1206, 30, 1)"
      ]
     },
     "execution_count": 31,
     "metadata": {},
     "output_type": "execute_result"
    }
   ],
   "source": [
    "X_train.shape"
   ]
  },
  {
   "cell_type": "code",
   "execution_count": 32,
   "metadata": {},
   "outputs": [],
   "source": [
    "from keras.models import Sequential\n",
    "from keras.layers import Dense\n",
    "from keras.layers import Dropout\n",
    "# from tensorflow.keras import Sequential\n",
    "from keras.layers import SimpleRNN"
   ]
  },
  {
   "cell_type": "code",
   "execution_count": 33,
   "metadata": {},
   "outputs": [],
   "source": [
    "\n",
    "model = Sequential()\n",
    "\n",
    "model.add(LSTM(units=50, return_sequences=True, input_shape=(gap, 1)))\n",
    "\n",
    "##add 2nd  layer\n",
    "model.add(LSTM(units = 50, return_sequences = True))\n",
    "# model.add(Dropout(rate = 0.2))\n",
    "\n",
    "##add 3rd layer\n",
    "model.add(LSTM(units = 50, return_sequences = True))\n",
    "\n",
    "##add 4th  layer\n",
    "model.add(LSTM(units = 50, return_sequences = False))\n",
    "model.add(Dropout(rate = 0.2))\n",
    "\n",
    "# Output Layer Regression unit=1, activatiion function =:relu, linear\n",
    "model.add(Dense(units = 1, activation=\"relu\")) "
   ]
  },
  {
   "cell_type": "code",
   "execution_count": 34,
   "metadata": {},
   "outputs": [
    {
     "name": "stdout",
     "output_type": "stream",
     "text": [
      "Model: \"sequential_1\"\n",
      "_________________________________________________________________\n",
      "Layer (type)                 Output Shape              Param #   \n",
      "=================================================================\n",
      "lstm_1 (LSTM)                (None, 30, 50)            10400     \n",
      "_________________________________________________________________\n",
      "lstm_2 (LSTM)                (None, 30, 50)            20200     \n",
      "_________________________________________________________________\n",
      "lstm_3 (LSTM)                (None, 30, 50)            20200     \n",
      "_________________________________________________________________\n",
      "lstm_4 (LSTM)                (None, 50)                20200     \n",
      "_________________________________________________________________\n",
      "dropout_1 (Dropout)          (None, 50)                0         \n",
      "_________________________________________________________________\n",
      "dense_1 (Dense)              (None, 1)                 51        \n",
      "=================================================================\n",
      "Total params: 71,051\n",
      "Trainable params: 71,051\n",
      "Non-trainable params: 0\n",
      "_________________________________________________________________\n"
     ]
    }
   ],
   "source": [
    "model.summary()"
   ]
  },
  {
   "cell_type": "code",
   "execution_count": 35,
   "metadata": {
    "id": "oZjJou5BOZSw"
   },
   "outputs": [],
   "source": [
    "model.compile(optimizer='adam',loss='mean_squared_error')"
   ]
  },
  {
   "cell_type": "code",
   "execution_count": 36,
   "metadata": {
    "colab": {
     "base_uri": "https://localhost:8080/",
     "height": 187
    },
    "id": "RCNy4xYOOZS0",
    "outputId": "3a12e8f3-9aaa-4e4a-d378-b5cfe0aec1c1"
   },
   "outputs": [
    {
     "name": "stdout",
     "output_type": "stream",
     "text": [
      "Epoch 1/50\n",
      "1206/1206 [==============================] - 6s 5ms/step - loss: 0.0400\n",
      "Epoch 2/50\n",
      "1206/1206 [==============================] - 4s 3ms/step - loss: 0.0057\n",
      "Epoch 3/50\n",
      "1206/1206 [==============================] - 4s 3ms/step - loss: 0.0044\n",
      "Epoch 4/50\n",
      "1206/1206 [==============================] - 4s 3ms/step - loss: 0.0047\n",
      "Epoch 5/50\n",
      "1206/1206 [==============================] - 4s 3ms/step - loss: 0.0038\n",
      "Epoch 6/50\n",
      "1206/1206 [==============================] - 4s 3ms/step - loss: 0.0041\n",
      "Epoch 7/50\n",
      "1206/1206 [==============================] - 4s 3ms/step - loss: 0.0039\n",
      "Epoch 8/50\n",
      "1206/1206 [==============================] - 4s 3ms/step - loss: 0.0036\n",
      "Epoch 9/50\n",
      "1206/1206 [==============================] - 4s 3ms/step - loss: 0.0037\n",
      "Epoch 10/50\n",
      "1206/1206 [==============================] - 4s 3ms/step - loss: 0.0039\n",
      "Epoch 11/50\n",
      "1206/1206 [==============================] - 4s 3ms/step - loss: 0.0035\n",
      "Epoch 12/50\n",
      "1206/1206 [==============================] - 4s 3ms/step - loss: 0.0037\n",
      "Epoch 13/50\n",
      "1206/1206 [==============================] - 4s 3ms/step - loss: 0.0032\n",
      "Epoch 14/50\n",
      "1206/1206 [==============================] - 3s 3ms/step - loss: 0.0039\n",
      "Epoch 15/50\n",
      "1206/1206 [==============================] - 4s 3ms/step - loss: 0.0035A: 1\n",
      "Epoch 16/50\n",
      "1206/1206 [==============================] - 4s 3ms/step - loss: 0.0033A: 0s - los\n",
      "Epoch 17/50\n",
      "1206/1206 [==============================] - 4s 3ms/step - loss: 0.0034\n",
      "Epoch 18/50\n",
      "1206/1206 [==============================] - 3s 2ms/step - loss: 0.0030\n",
      "Epoch 19/50\n",
      "1206/1206 [==============================] - 2s 2ms/step - loss: 0.0032\n",
      "Epoch 20/50\n",
      "1206/1206 [==============================] - 2s 2ms/step - loss: 0.0036\n",
      "Epoch 21/50\n",
      "1206/1206 [==============================] - 2s 2ms/step - loss: 0.0031\n",
      "Epoch 22/50\n",
      "1206/1206 [==============================] - 2s 2ms/step - loss: 0.0028\n",
      "Epoch 23/50\n",
      "1206/1206 [==============================] - 2s 2ms/step - loss: 0.0026\n",
      "Epoch 24/50\n",
      "1206/1206 [==============================] - 2s 2ms/step - loss: 0.0027\n",
      "Epoch 25/50\n",
      "1206/1206 [==============================] - 2s 2ms/step - loss: 0.0025\n",
      "Epoch 26/50\n",
      "1206/1206 [==============================] - 2s 2ms/step - loss: 0.0027\n",
      "Epoch 27/50\n",
      "1206/1206 [==============================] - 2s 2ms/step - loss: 0.0027\n",
      "Epoch 28/50\n",
      "1206/1206 [==============================] - 2s 2ms/step - loss: 0.0024\n",
      "Epoch 29/50\n",
      "1206/1206 [==============================] - 2s 2ms/step - loss: 0.0024\n",
      "Epoch 30/50\n",
      "1206/1206 [==============================] - 2s 1ms/step - loss: 0.0023\n",
      "Epoch 31/50\n",
      "1206/1206 [==============================] - 1s 1ms/step - loss: 0.0026\n",
      "Epoch 32/50\n",
      "1206/1206 [==============================] - 2s 1ms/step - loss: 0.0023\n",
      "Epoch 33/50\n",
      "1206/1206 [==============================] - 1s 1ms/step - loss: 0.0025\n",
      "Epoch 34/50\n",
      "1206/1206 [==============================] - 2s 1ms/step - loss: 0.0025\n",
      "Epoch 35/50\n",
      "1206/1206 [==============================] - 2s 1ms/step - loss: 0.0026\n",
      "Epoch 36/50\n",
      "1206/1206 [==============================] - 2s 1ms/step - loss: 0.0024\n",
      "Epoch 37/50\n",
      "1206/1206 [==============================] - 1s 1ms/step - loss: 0.0023\n",
      "Epoch 38/50\n",
      "1206/1206 [==============================] - 1s 1ms/step - loss: 0.0022\n",
      "Epoch 39/50\n",
      "1206/1206 [==============================] - 1s 1ms/step - loss: 0.0023\n",
      "Epoch 40/50\n",
      "1206/1206 [==============================] - 2s 1ms/step - loss: 0.0022\n",
      "Epoch 41/50\n",
      "1206/1206 [==============================] - 1s 1ms/step - loss: 0.0021\n",
      "Epoch 42/50\n",
      "1206/1206 [==============================] - 1s 1ms/step - loss: 0.0021\n",
      "Epoch 43/50\n",
      "1206/1206 [==============================] - 1s 1ms/step - loss: 0.0022\n",
      "Epoch 44/50\n",
      "1206/1206 [==============================] - 1s 1ms/step - loss: 0.0021\n",
      "Epoch 45/50\n",
      "1206/1206 [==============================] - 1s 1ms/step - loss: 0.0019\n",
      "Epoch 46/50\n",
      "1206/1206 [==============================] - 1s 1ms/step - loss: 0.0019\n",
      "Epoch 47/50\n",
      "1206/1206 [==============================] - 1s 1ms/step - loss: 0.0020\n",
      "Epoch 48/50\n",
      "1206/1206 [==============================] - 1s 1ms/step - loss: 0.0021\n",
      "Epoch 49/50\n",
      "1206/1206 [==============================] - 1s 1ms/step - loss: 0.0018\n",
      "Epoch 50/50\n",
      "1206/1206 [==============================] - 1s 1ms/step - loss: 0.0017\n"
     ]
    }
   ],
   "source": [
    "hist=model.fit(X_train,y_train,epochs=50,batch_size=32)"
   ]
  },
  {
   "cell_type": "code",
   "execution_count": 37,
   "metadata": {},
   "outputs": [
    {
     "data": {
      "text/plain": [
       "[0.04000859304098026,\n",
       " 0.005656013996564284,\n",
       " 0.004364019200347896,\n",
       " 0.004673495453166131,\n",
       " 0.0038340101497337394,\n",
       " 0.004134264050644651,\n",
       " 0.003926457622154904,\n",
       " 0.003639216189601676,\n",
       " 0.003690360320938958,\n",
       " 0.003907554518820635,\n",
       " 0.0034944239372903386,\n",
       " 0.003742468758998979,\n",
       " 0.0032181352227123126,\n",
       " 0.0038529123304331457,\n",
       " 0.0034889421961695004,\n",
       " 0.003286852458087267,\n",
       " 0.0034350177275470984,\n",
       " 0.002963766049837715,\n",
       " 0.0031932455199503436,\n",
       " 0.003562801193204982,\n",
       " 0.0030994633107274696,\n",
       " 0.0028166652554383574,\n",
       " 0.002641327540153888,\n",
       " 0.002673134436694964,\n",
       " 0.002532436759527742,\n",
       " 0.0026834736704427877,\n",
       " 0.002726328822553998,\n",
       " 0.002360355636803047,\n",
       " 0.0023927958006468627,\n",
       " 0.0023393243181350862,\n",
       " 0.0026183920077652136,\n",
       " 0.0023487382668810303,\n",
       " 0.0024664420364223804,\n",
       " 0.0024674276676133994,\n",
       " 0.0025792915368634916,\n",
       " 0.002378997151434088,\n",
       " 0.0022948279837455296,\n",
       " 0.002160132248309838,\n",
       " 0.002253855329553657,\n",
       " 0.0021703151953568803,\n",
       " 0.0020502038496186584,\n",
       " 0.0020899386261010646,\n",
       " 0.002203386733354769,\n",
       " 0.002051080389420933,\n",
       " 0.001856775097950527,\n",
       " 0.0018961028173522618,\n",
       " 0.0019659697229527616,\n",
       " 0.0021328581825275574,\n",
       " 0.0018499764221122682,\n",
       " 0.0017109081206247087]"
      ]
     },
     "execution_count": 37,
     "metadata": {},
     "output_type": "execute_result"
    }
   ],
   "source": [
    "hist.history[\"loss\"]"
   ]
  },
  {
   "cell_type": "code",
   "execution_count": 38,
   "metadata": {},
   "outputs": [
    {
     "data": {
      "text/plain": [
       "[<matplotlib.lines.Line2D at 0x27b1b303c88>]"
      ]
     },
     "execution_count": 38,
     "metadata": {},
     "output_type": "execute_result"
    },
    {
     "data": {
      "image/png": "[encoded data removed]",
      "text/plain": [
       "<Figure size 432x288 with 1 Axes>"
      ]
     },
     "metadata": {
      "needs_background": "light"
     },
     "output_type": "display_data"
    }
   ],
   "source": [
    "plt.plot(range(1,51),hist.history[\"loss\"])"
   ]
  },
  {
   "cell_type": "code",
   "execution_count": 39,
   "metadata": {
    "id": "9uRmzk1-OZS6"
   },
   "outputs": [
    {
     "name": "stdout",
     "output_type": "stream",
     "text": [
      "Model: \"sequential_1\"\n",
      "_________________________________________________________________\n",
      "Layer (type)                 Output Shape              Param #   \n",
      "=================================================================\n",
      "lstm_1 (LSTM)                (None, 30, 50)            10400     \n",
      "_________________________________________________________________\n",
      "lstm_2 (LSTM)                (None, 30, 50)            20200     \n",
      "_________________________________________________________________\n",
      "lstm_3 (LSTM)                (None, 30, 50)            20200     \n",
      "_________________________________________________________________\n",
      "lstm_4 (LSTM)                (None, 50)                20200     \n",
      "_________________________________________________________________\n",
      "dropout_1 (Dropout)          (None, 50)                0         \n",
      "_________________________________________________________________\n",
      "dense_1 (Dense)              (None, 1)                 51        \n",
      "=================================================================\n",
      "Total params: 71,051\n",
      "Trainable params: 71,051\n",
      "Non-trainable params: 0\n",
      "_________________________________________________________________\n",
      "None\n"
     ]
    }
   ],
   "source": [
    "print(model.summary())"
   ]
  },
  {
   "cell_type": "code",
   "execution_count": null,
   "metadata": {},
   "outputs": [],
   "source": []
  },
  {
   "cell_type": "code",
   "execution_count": 40,
   "metadata": {
    "id": "pq_YAKveOZS-"
   },
   "outputs": [],
   "source": [
    "# test = pd.read_csv(r'Google_Stock_Price_Test.csv')\n",
    "real_stock_price = test.iloc[:, 1:2].values"
   ]
  },
  {
   "cell_type": "code",
   "execution_count": 41,
   "metadata": {
    "id": "URrbj-xhOZTC"
   },
   "outputs": [],
   "source": [
    "total_data=pd.concat([train['Open'],test['Open']],axis=0)\n",
    "inputs=total_data[len(train)-len(test)-gap:].values\n",
    "inputs=inputs.reshape(-1,1)\n",
    "inputs = sc.transform(inputs)"
   ]
  },
  {
   "cell_type": "code",
   "execution_count": 42,
   "metadata": {},
   "outputs": [
    {
     "data": {
      "text/plain": [
       "(20, 6)"
      ]
     },
     "execution_count": 42,
     "metadata": {},
     "output_type": "execute_result"
    }
   ],
   "source": [
    "test.shape"
   ]
  },
  {
   "cell_type": "code",
   "execution_count": 43,
   "metadata": {
    "id": "SaaaV8IjOZTG"
   },
   "outputs": [
    {
     "name": "stderr",
     "output_type": "stream",
     "text": [
      "C:\\Users\\Nikita\\anaconda3\\envs\\deep_learning\\lib\\site-packages\\ipykernel_launcher.py:4: VisibleDeprecationWarning: Creating an ndarray from ragged nested sequences (which is a list-or-tuple of lists-or-tuples-or ndarrays with different lengths or shapes) is deprecated. If you meant to do this, you must specify 'dtype=object' when creating the ndarray\n",
      "  after removing the cwd from sys.path.\n"
     ]
    },
    {
     "ename": "IndexError",
     "evalue": "tuple index out of range",
     "output_type": "error",
     "traceback": [
      "\u001b[1;31m---------------------------------------------------------------------------\u001b[0m",
      "\u001b[1;31mIndexError\u001b[0m                                Traceback (most recent call last)",
      "\u001b[1;32m<ipython-input-43-c8a3c0ecdfd7>\u001b[0m in \u001b[0;36m<module>\u001b[1;34m\u001b[0m\n\u001b[0;32m      4\u001b[0m \u001b[0mX_test\u001b[0m\u001b[1;33m=\u001b[0m\u001b[0mnp\u001b[0m\u001b[1;33m.\u001b[0m\u001b[0marray\u001b[0m\u001b[1;33m(\u001b[0m\u001b[0mX_test\u001b[0m\u001b[1;33m)\u001b[0m\u001b[1;33m\u001b[0m\u001b[1;33m\u001b[0m\u001b[0m\n\u001b[0;32m      5\u001b[0m \u001b[0mX_test\u001b[0m\u001b[1;33m.\u001b[0m\u001b[0mshape\u001b[0m\u001b[1;33m\u001b[0m\u001b[1;33m\u001b[0m\u001b[0m\n\u001b[1;32m----> 6\u001b[1;33m \u001b[0mX_test\u001b[0m\u001b[1;33m=\u001b[0m\u001b[0mnp\u001b[0m\u001b[1;33m.\u001b[0m\u001b[0mreshape\u001b[0m\u001b[1;33m(\u001b[0m\u001b[0mX_test\u001b[0m\u001b[1;33m,\u001b[0m\u001b[1;33m(\u001b[0m\u001b[0mX_test\u001b[0m\u001b[1;33m.\u001b[0m\u001b[0mshape\u001b[0m\u001b[1;33m[\u001b[0m\u001b[1;36m0\u001b[0m\u001b[1;33m]\u001b[0m\u001b[1;33m,\u001b[0m\u001b[0mX_test\u001b[0m\u001b[1;33m.\u001b[0m\u001b[0mshape\u001b[0m\u001b[1;33m[\u001b[0m\u001b[1;36m1\u001b[0m\u001b[1;33m]\u001b[0m\u001b[1;33m,\u001b[0m\u001b[1;36m1\u001b[0m\u001b[1;33m)\u001b[0m\u001b[1;33m)\u001b[0m\u001b[1;33m\u001b[0m\u001b[1;33m\u001b[0m\u001b[0m\n\u001b[0m",
      "\u001b[1;31mIndexError\u001b[0m: tuple index out of range"
     ]
    }
   ],
   "source": [
    "X_test=[]\n",
    "for i in range(gap,92):\n",
    "    X_test.append(inputs[i-gap:i,0])\n",
    "X_test=np.array(X_test)\n",
    "X_test.shape\n",
    "X_test=np.reshape(X_test,(X_test.shape[0],X_test.shape[1],1))"
   ]
  },
  {
   "cell_type": "code",
   "execution_count": null,
   "metadata": {},
   "outputs": [],
   "source": [
    "X_test"
   ]
  },
  {
   "cell_type": "code",
   "execution_count": null,
   "metadata": {
    "id": "6EkGjU2pOZTM"
   },
   "outputs": [],
   "source": [
    "predicted_stock_price=model.predict(X_test)\n",
    "predicted_stock_price=sc.inverse_transform(predicted_stock_price)"
   ]
  },
  {
   "cell_type": "code",
   "execution_count": null,
   "metadata": {},
   "outputs": [],
   "source": [
    "predicted_stock_price.shape"
   ]
  },
  {
   "cell_type": "code",
   "execution_count": null,
   "metadata": {
    "id": "bbuQrhrzOZTQ"
   },
   "outputs": [],
   "source": [
    "#Visualization\n",
    "plt.plot(predicted_stock_price,color='red',label='Predicted Stock Price')\n",
    "plt.plot(real_stock_price,color='blue',label='Real Stock Price')\n",
    "plt.title('Google Stock Price Prediction')\n",
    "plt.xlabel('Time')\n",
    "plt.ylabel('Stock Price')\n",
    "plt.legend()\n",
    "plt.show()"
   ]
  },
  {
   "cell_type": "code",
   "execution_count": null,
   "metadata": {
    "id": "vGEDE19bOZTT"
   },
   "outputs": [],
   "source": []
  },
  {
   "cell_type": "code",
   "execution_count": null,
   "metadata": {
    "id": "JTf4l2SkOZTW"
   },
   "outputs": [],
   "source": []
  }
 ],
 "metadata": {
  "colab": {
   "collapsed_sections": [],
   "name": "Google Stock Prediction with LSTM Final.ipynb",
   "provenance": []
  },
  "kernelspec": {
   "display_name": "Python 3",
   "language": "python",
   "name": "python3"
  },
  "language_info": {
   "codemirror_mode": {
    "name": "ipython",
    "version": 3
   },
   "file_extension": ".py",
   "mimetype": "text/x-python",
   "name": "python",
   "nbconvert_exporter": "python",
   "pygments_lexer": "ipython3",
   "version": "3.6.12"
  }
 },
 "nbformat": 4,
 "nbformat_minor": 1
}
